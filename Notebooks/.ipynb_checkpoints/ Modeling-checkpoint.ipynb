{
 "cells": [
  {
   "cell_type": "code",
   "execution_count": 1,
   "id": "ae09d887",
   "metadata": {},
   "outputs": [],
   "source": [
    "import numpy as np\n",
    "import pandas as pd\n",
    "import matplotlib.pyplot as plt\n",
    "from tqdm import tqdm_notebook\n",
    "from sklearn.preprocessing import LabelEncoder\n",
    "from sklearn.model_selection import KFold,train_test_split\n",
    "from sklearn.metrics import roc_auc_score,roc_curve,confusion_matrix,auc\n",
    "import xgboost as xgb"
   ]
  },
  {
   "cell_type": "code",
   "execution_count": null,
   "id": "bb16c8fd",
   "metadata": {},
   "outputs": [],
   "source": [
    "pip install mlflow boto3"
   ]
  },
  {
   "cell_type": "code",
   "execution_count": null,
   "id": "d876d734",
   "metadata": {},
   "outputs": [],
   "source": [
    "import boto3\n",
    "print(boto3.__version__)"
   ]
  },
  {
   "cell_type": "code",
   "execution_count": null,
   "id": "4b63bd15",
   "metadata": {},
   "outputs": [],
   "source": [
    "import os\n",
    "\n",
    "# Set the AWS profile to use\n",
    "os.environ['AWS_PROFILE'] = 'ml_user'"
   ]
  },
  {
   "cell_type": "code",
   "execution_count": null,
   "id": "7145ed2c",
   "metadata": {},
   "outputs": [],
   "source": [
    "import mlflow\n",
    "mlflow.set_tracking_uri(\"http://127.0.0.1:5000\")\n",
    "mlflow.set_experiment(\"Fraud detection\")"
   ]
  },
  {
   "cell_type": "code",
   "execution_count": 2,
   "id": "4e705d93",
   "metadata": {},
   "outputs": [],
   "source": [
    "def load_data(training_data_path,test_data_path):\n",
    "    train_data=pd.read_csv(training_data_path)\n",
    "    test_data=pd.read_csv(test_data_path)\n",
    "    return train_data,test_data"
   ]
  },
  {
   "cell_type": "code",
   "execution_count": null,
   "id": "7f6d26f0",
   "metadata": {},
   "outputs": [],
   "source": [
    "training_data_path=''\n",
    "test_data_path=''\n",
    "df_train.df_test=load_data((training_data_path,test_data_path)"
   ]
  },
  {
   "cell_type": "code",
   "execution_count": 3,
   "id": "0f3936a6",
   "metadata": {},
   "outputs": [],
   "source": [
    "def preprocess_numerical_features(df,drop_col=None):\n",
    "    \n",
    "    START_DATE='2017-12-01'\n",
    "    startdate=datetime.datetime.strptime(START_DATE,\"%Y-%m-%d\")\n",
    "    #convert transactional date into actual date\n",
    "    df[\"Date\"]=df['TransactionDT'].apply(lambda x:(startdate + datetime.timedelta(seconds=x)))\n",
    "    #extract features\n",
    "    df['weekdays']=df['Date'].dt.dayofweek\n",
    "    df['Hour']=df['Date'].dt.hour\n",
    "    df['Day']=df['Date'].dt.day\n",
    "    \n",
    "    #log transform of transaction amount-to redice skew\n",
    "    df['TransactionAmt']= np.log(df['TransactionAmt'])\n",
    "    \n",
    "    #drop transactional date column\n",
    "    \n",
    "    if drop_cols:\n",
    "        df.drop(drop_cols,axis=1,inplace=True)\n",
    "    \n",
    "    return df"
   ]
  },
  {
   "cell_type": "code",
   "execution_count": null,
   "id": "3ce8ea12",
   "metadata": {},
   "outputs": [],
   "source": [
    "drop_col=['TransactionDT']\n",
    "df_train=preprocess_numerical_features(df_train,drop_col=drop_col)\n",
    "df_test=preprocess_numerical_features(df_test,drop_col=drop_col)"
   ]
  },
  {
   "cell_type": "code",
   "execution_count": null,
   "id": "83a666c1",
   "metadata": {},
   "outputs": [],
   "source": [
    "def encode_categorical_features(train_df,test_df):\n",
    "    train_df=train_df.copy\n",
    "    test_df=test_df.copy\n",
    "    \n",
    "    for col in train_df.columns:\n",
    "        if train_df[col].dtype == 'object':\n",
    "            #fill nan in both\n",
    "            train_df[col] = train_df[col].fillna('Unknown')\n",
    "            test_df[col] = test_df[col].fillna('Unknown')\n",
    "            \n",
    "            #fit label encoder\n",
    "            le=LabelEncoder()\n",
    "            train_df['col']=le.fit_transform(train_Df[col].astype(str))\n",
    "            test_df['col']=le.fit_transform(test_Df[col].astype(str))\n",
    "            \n",
    "    return train_df,test_df    "
   ]
  },
  {
   "cell_type": "code",
   "execution_count": null,
   "id": "5b3b7d91",
   "metadata": {},
   "outputs": [],
   "source": [
    "train,test=encode_categorical_features(df_train,df_test)"
   ]
  },
  {
   "cell_type": "code",
   "execution_count": null,
   "id": "ac8a1ca7",
   "metadata": {},
   "outputs": [],
   "source": [
    "X=train.drop('isFraud',axis=1)\n",
    "y=train['isFraud']\n",
    "X_train,X_val,y_train,y_val=train_test_split(X,y,test_size=0.2,random_state=0)\n"
   ]
  },
  {
   "cell_type": "code",
   "execution_count": null,
   "id": "2c9e92c5",
   "metadata": {},
   "outputs": [],
   "source": [
    "#calculate class weight for imbalance data\n",
    "scale_pos_weight =  (y == 0).sum() / (y == 1).sum()"
   ]
  },
  {
   "cell_type": "code",
   "execution_count": null,
   "id": "4dd4e670",
   "metadata": {},
   "outputs": [],
   "source": [
    "with mlflow.start_run():\n",
    "    params=dict(n_estimators=500,\n",
    "                max_depth=9,\n",
    "                learning_rate=0.05,\n",
    "                subsample=0.9,\n",
    "                colsample_bytree=0.9,\n",
    "                tree_method='gpu_hist')\n",
    "    mlflow.log_params(params)\n",
    "    model=xgb.XGBClassifier(\n",
    "        **params,\n",
    "        scale_pos_weight=scale_pos_weight,\n",
    "        random_state=42,\n",
    "        eval_metric='logloss',\n",
    "        missing=np.nan)\n",
    "    model.fit(X_train,y_train)\n",
    "    y_pred = model.predict(X_val)\n",
    "    y_pred_proba = model.predict_proba(X_val)[:, 1]\n",
    "        \n",
    "    auc_score = roc_auc_score(y_val, y_pred_proba)\n",
    "    print(f\" Model trained! AUC Score: {auc_score:.4f}\")\n",
    "    print(\"\\nClassification Report:\")\n",
    "    print(classification_report(y_test, y_pred))\n",
    "    \n",
    "    # Log the model to MLflow\n",
    "    mlflow.xgboost.log_model(model, artifact_path=\"model\")\n",
    "        "
   ]
  }
 ],
 "metadata": {
  "kernelspec": {
   "display_name": "Python 3 (ipykernel)",
   "language": "python",
   "name": "python3"
  },
  "language_info": {
   "codemirror_mode": {
    "name": "ipython",
    "version": 3
   },
   "file_extension": ".py",
   "mimetype": "text/x-python",
   "name": "python",
   "nbconvert_exporter": "python",
   "pygments_lexer": "ipython3",
   "version": "3.9.12"
  }
 },
 "nbformat": 4,
 "nbformat_minor": 5
}
