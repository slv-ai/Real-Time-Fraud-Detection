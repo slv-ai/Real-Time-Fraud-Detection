{
 "cells": [
  {
   "cell_type": "code",
   "execution_count": 4,
   "id": "dca13ca5",
   "metadata": {},
   "outputs": [
    {
     "name": "stdout",
     "output_type": "stream",
     "text": [
      "Collecting gdown\n",
      "  Downloading gdown-5.2.0-py3-none-any.whl (18 kB)\n",
      "Requirement already satisfied: filelock in /home/codespace/anaconda3/lib/python3.9/site-packages (from gdown) (3.6.0)\n",
      "Requirement already satisfied: tqdm in /home/codespace/anaconda3/lib/python3.9/site-packages (from gdown) (4.64.0)\n",
      "Requirement already satisfied: requests[socks] in /home/codespace/anaconda3/lib/python3.9/site-packages (from gdown) (2.27.1)\n",
      "Requirement already satisfied: beautifulsoup4 in /home/codespace/anaconda3/lib/python3.9/site-packages (from gdown) (4.11.1)\n",
      "Requirement already satisfied: soupsieve>1.2 in /home/codespace/anaconda3/lib/python3.9/site-packages (from beautifulsoup4->gdown) (2.3.1)\n",
      "Requirement already satisfied: idna<4,>=2.5 in /home/codespace/anaconda3/lib/python3.9/site-packages (from requests[socks]->gdown) (3.3)\n",
      "Requirement already satisfied: certifi>=2017.4.17 in /home/codespace/anaconda3/lib/python3.9/site-packages (from requests[socks]->gdown) (2021.10.8)\n",
      "Requirement already satisfied: urllib3<1.27,>=1.21.1 in /home/codespace/anaconda3/lib/python3.9/site-packages (from requests[socks]->gdown) (1.26.9)\n",
      "Requirement already satisfied: charset-normalizer~=2.0.0 in /home/codespace/anaconda3/lib/python3.9/site-packages (from requests[socks]->gdown) (2.0.4)\n",
      "Requirement already satisfied: PySocks!=1.5.7,>=1.5.6 in /home/codespace/anaconda3/lib/python3.9/site-packages (from requests[socks]->gdown) (1.7.1)\n",
      "Installing collected packages: gdown\n",
      "Successfully installed gdown-5.2.0\n",
      "Note: you may need to restart the kernel to use updated packages.\n"
     ]
    }
   ],
   "source": [
    "pip install gdown "
   ]
  },
  {
   "cell_type": "code",
   "execution_count": 5,
   "id": "3b630049",
   "metadata": {},
   "outputs": [
    {
     "name": "stdout",
     "output_type": "stream",
     "text": [
      "Collecting pyarrow\n",
      "  Downloading pyarrow-20.0.0-cp39-cp39-manylinux_2_28_x86_64.whl (42.3 MB)\n",
      "\u001b[K     |████████████████████████████████| 42.3 MB 12.8 MB/s eta 0:00:01\n",
      "\u001b[?25hInstalling collected packages: pyarrow\n",
      "Successfully installed pyarrow-20.0.0\n"
     ]
    }
   ],
   "source": [
    "!pip install pyarrow"
   ]
  },
  {
   "cell_type": "code",
   "execution_count": null,
   "id": "bb16c8fd",
   "metadata": {},
   "outputs": [],
   "source": [
    "pip install mlflow boto3 "
   ]
  },
  {
   "cell_type": "code",
   "execution_count": 20,
   "id": "ae09d887",
   "metadata": {},
   "outputs": [],
   "source": [
    "import numpy as np\n",
    "import pandas as pd\n",
    "import matplotlib.pyplot as plt\n",
    "from tqdm import tqdm_notebook\n",
    "from sklearn.preprocessing import LabelEncoder\n",
    "from sklearn.model_selection import KFold,train_test_split\n",
    "from sklearn.metrics import roc_auc_score,roc_curve,confusion_matrix,auc\n",
    "import xgboost as xgb"
   ]
  },
  {
   "cell_type": "code",
   "execution_count": 7,
   "id": "c60f0e02",
   "metadata": {},
   "outputs": [
    {
     "name": "stdout",
     "output_type": "stream",
     "text": [
      "Downloading file from Google Drive with ID: 1OP0kWJWGldkxXCWdwoEEhup4FTPn0isj\n"
     ]
    },
    {
     "name": "stderr",
     "output_type": "stream",
     "text": [
      "Downloading...\n",
      "From: https://drive.google.com/uc?id=1OP0kWJWGldkxXCWdwoEEhup4FTPn0isj\n",
      "To: /workspaces/Real-Time-Fraud-Detection/data_cleaned/train_data.parquet\n",
      "100%|███████████████████████████████████████████████████| 84.8M/84.8M [00:00<00:00, 135MB/s]"
     ]
    },
    {
     "name": "stdout",
     "output_type": "stream",
     "text": [
      "Download complete: /workspaces/Real-Time-Fraud-Detection/data_cleaned/train_data.parquet\n"
     ]
    },
    {
     "name": "stderr",
     "output_type": "stream",
     "text": [
      "\n"
     ]
    }
   ],
   "source": [
    "import os\n",
    "import gdown\n",
    "def download_file_from_gdrive(file_id,destination_path):\n",
    "    if not os.path.exists(destination_path):\n",
    "        print(f\"Downloading file from Google Drive with ID: {file_id}\")\n",
    "        url = f\"https://drive.google.com/uc?id={file_id}\"\n",
    "        gdown.download(url,destination_path,quiet=False)\n",
    "        print(f\"Download complete: {destination_path}\")\n",
    "    else:\n",
    "        print(f\"Skipping download.\")\n",
    "file_id = '1OP0kWJWGldkxXCWdwoEEhup4FTPn0isj'  #  file's actual google link ID\n",
    "destination_path = '/workspaces/Real-Time-Fraud-Detection/data_cleaned/train_data.parquet'  # Path to where the file should be saved\n",
    "\n",
    "download_file_from_gdrive(file_id, destination_path)\n",
    "            "
   ]
  },
  {
   "cell_type": "code",
   "execution_count": 29,
   "id": "4e142f9e",
   "metadata": {},
   "outputs": [
    {
     "data": {
      "text/plain": [
       "'1.4.2'"
      ]
     },
     "execution_count": 29,
     "metadata": {},
     "output_type": "execute_result"
    }
   ],
   "source": [
    "pd.__version__"
   ]
  },
  {
   "cell_type": "code",
   "execution_count": null,
   "id": "d876d734",
   "metadata": {},
   "outputs": [],
   "source": [
    "import boto3\n",
    "print(boto3.__version__)"
   ]
  },
  {
   "cell_type": "code",
   "execution_count": null,
   "id": "4b63bd15",
   "metadata": {},
   "outputs": [],
   "source": [
    "import os\n",
    "\n",
    "# Set the AWS profile to use\n",
    "os.environ['AWS_PROFILE'] = 'ml_user'"
   ]
  },
  {
   "cell_type": "code",
   "execution_count": null,
   "id": "7145ed2c",
   "metadata": {},
   "outputs": [],
   "source": [
    "import mlflow\n",
    "mlflow.set_tracking_uri(\"http://127.0.0.1:5000\")\n",
    "mlflow.set_experiment(\"Fraud detection\")"
   ]
  },
  {
   "cell_type": "code",
   "execution_count": 25,
   "id": "4e705d93",
   "metadata": {},
   "outputs": [
    {
     "name": "stdout",
     "output_type": "stream",
     "text": [
      "   TransactionID  isFraud  TransactionDT  TransactionAmt ProductCD  card1  \\\n",
      "0        2987000        0          86400        4.226834         W  13926   \n",
      "1        2987001        0          86401        3.367296         W   2755   \n",
      "2        2987002        0          86469        4.077537         W   4663   \n",
      "3        2987003        0          86499        3.912023         W  18132   \n",
      "4        2987004        0          86506        3.912023         H   4497   \n",
      "\n",
      "   card2  card3       card4  card5  ... id_35  id_36  id_37  id_38 DeviceType  \\\n",
      "0    NaN  150.0    discover  142.0  ...  None   None   None   None       None   \n",
      "1  404.0  150.0  mastercard  102.0  ...  None   None   None   None       None   \n",
      "2  490.0  150.0        visa  166.0  ...  None   None   None   None       None   \n",
      "3  567.0  150.0  mastercard  117.0  ...  None   None   None   None       None   \n",
      "4  514.0  150.0  mastercard  102.0  ...     T      F      T      T     mobile   \n",
      "\n",
      "                      DeviceInfo                Date  weekdays  Hour  Day  \n",
      "0                           None 2017-12-02 00:00:00         5     0    2  \n",
      "1                           None 2017-12-02 00:00:01         5     0    2  \n",
      "2                           None 2017-12-02 00:01:09         5     0    2  \n",
      "3                           None 2017-12-02 00:01:39         5     0    2  \n",
      "4  SAMSUNG SM-G892A Build/NRD90M 2017-12-02 00:01:46         5     0    2  \n",
      "\n",
      "[5 rows x 426 columns]\n"
     ]
    }
   ],
   "source": [
    "df=dd.read_parquet(\"/workspaces/Real-Time-Fraud-Detection/data_cleaned/train_data.parquet\")\n",
    "df.head()"
   ]
  },
  {
   "cell_type": "code",
   "execution_count": 1,
   "id": "83a666c1",
   "metadata": {},
   "outputs": [],
   "source": [
    "def preprocess_features(train_df,cat_cols=None):\n",
    "    if cat_cols is None:\n",
    "        cat_cols=df.select_dtype(include=['object']).columns\n",
    "        label_encoders={}\n",
    "        for col in cat_cols:\n",
    "            train_df[col]=train_df[col].fillna('Unknown').astype(str)\n",
    "            #fit label encoder\n",
    "            le=LabelEncoder()\n",
    "            train_df[col]=le.fit_transform(train_Df[col])\n",
    "            label_encoders[col] = le\n",
    "    return train_df,label_encoders "
   ]
  },
  {
   "cell_type": "code",
   "execution_count": null,
   "id": "5b3b7d91",
   "metadata": {},
   "outputs": [],
   "source": [
    "df,labelencoders = preprocess_features(df)"
   ]
  },
  {
   "cell_type": "code",
   "execution_count": null,
   "id": "ac8a1ca7",
   "metadata": {},
   "outputs": [],
   "source": [
    "X=train.drop('isFraud',axis=1)\n",
    "y=train['isFraud']\n",
    "X_train,X_val,y_train,y_val=train_test_split(X,y,test_size=0.2,random_state=42)\n"
   ]
  },
  {
   "cell_type": "code",
   "execution_count": null,
   "id": "2c9e92c5",
   "metadata": {},
   "outputs": [],
   "source": [
    "#calculate class weight for imbalance data\n",
    "scale_pos_weight =  (y == 0).sum() / (y == 1).sum()"
   ]
  },
  {
   "cell_type": "code",
   "execution_count": null,
   "id": "4dd4e670",
   "metadata": {},
   "outputs": [],
   "source": [
    "with mlflow.start_run():\n",
    "    params=dict(n_estimators=500,\n",
    "                max_depth=9,\n",
    "                learning_rate=0.05,\n",
    "                subsample=0.9,\n",
    "                colsample_bytree=0.9,\n",
    "                tree_method='gpu_hist')\n",
    "    mlflow.log_params(params)\n",
    "    model=xgb.XGBClassifier(\n",
    "        **params,\n",
    "        scale_pos_weight=scale_pos_weight,\n",
    "        random_state=42,\n",
    "        eval_metric='logloss',\n",
    "        missing=np.nan)\n",
    "    model.fit(X_train,y_train)\n",
    "    y_pred = model.predict(X_val)\n",
    "    y_pred_proba = model.predict_proba(X_val)[:, 1]\n",
    "        \n",
    "    auc_score = roc_auc_score(y_val, y_pred_proba)\n",
    "    print(f\" Model trained! AUC Score: {auc_score:.4f}\")\n",
    "    print(\"\\nClassification Report:\")\n",
    "    print(classification_report(y_test, y_pred))\n",
    "    \n",
    "    # Log the model to MLflow\n",
    "    mlflow.xgboost.log_model(model, artifact_path=\"model\")\n",
    "        "
   ]
  }
 ],
 "metadata": {
  "kernelspec": {
   "display_name": "Python 3 (ipykernel)",
   "language": "python",
   "name": "python3"
  },
  "language_info": {
   "codemirror_mode": {
    "name": "ipython",
    "version": 3
   },
   "file_extension": ".py",
   "mimetype": "text/x-python",
   "name": "python",
   "nbconvert_exporter": "python",
   "pygments_lexer": "ipython3",
   "version": "3.9.12"
  }
 },
 "nbformat": 4,
 "nbformat_minor": 5
}
